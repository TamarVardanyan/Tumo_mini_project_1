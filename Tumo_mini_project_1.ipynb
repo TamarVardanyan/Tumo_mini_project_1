{
  "nbformat": 4,
  "nbformat_minor": 0,
  "metadata": {
    "colab": {
      "provenance": [],
      "authorship_tag": "ABX9TyNhMXriGzjkofmmuxLz8fkZ",
      "include_colab_link": true
    },
    "kernelspec": {
      "name": "python3",
      "display_name": "Python 3"
    },
    "language_info": {
      "name": "python"
    }
  },
  "cells": [
    {
      "cell_type": "markdown",
      "metadata": {
        "id": "view-in-github",
        "colab_type": "text"
      },
      "source": [
        "<a href=\"https://colab.research.google.com/github/TamarVardanyan/Tumo_mini_project_1/blob/yea/Tumo_mini_project_1.ipynb\" target=\"_parent\"><img src=\"https://colab.research.google.com/assets/colab-badge.svg\" alt=\"Open In Colab\"/></a>"
      ]
    },
    {
      "cell_type": "code",
      "source": [
        "import random\n",
        "templets=int(input('Please chose temlets 1 , 2, or 3: '))\n",
        "numbers=input('Enter 2 numbers: ')\n",
        "numbers=numbers.split()\n",
        "number=random.shuffle(numbers)\n",
        "names=input('Enter a name: ')\n",
        "adjectives=input('Enter 5 adjectives: ')\n",
        "adjectives=adjectives.split()\n",
        "adjective=random.shuffle(adjectives)\n",
        "nouns=input('Enter 5 nouns: ')\n",
        "nouns=nouns.split()\n",
        "noun=random.shuffle(nouns)\n",
        "measure_of_times=input('Enter a measure of time: ')\n",
        "colors=input('Enter 2 color: ')\n",
        "colors=colors.split()\n",
        "color=random.shuffle(colors)\n",
        "verbs=input('Enter 2 verb: ')\n",
        "verbs=verbs.split()\n",
        "verb=random.shuffle(verbs)\n",
        "animals=input('Enter 2 animals: ')\n",
        "animals=animals.split()\n",
        "animal=random.shuffle(animals)\n",
        "silly_words=input('Enter 2 silly word: ')\n",
        "silly_words=silly_words.split()\n",
        "silly_word=random.shuffle(silly_words)\n",
        "verb_ing=input('Enter verb +ing: ')\n",
        "\n",
        "if templets==1:\n",
        "  mode_of_transportation=input('Enter mode of transportation: ')\n",
        "  part_of_the_bodes=input('Enter 2 part of body: ')\n",
        "  part_of_the_bodes=part_of_the_bodes.split()\n",
        "  part_of_the_body=random.shuffle(part_of_the_bodes)\n",
        "  print()\n",
        "  print('It was about', numbers[0], measure_of_times[0], 'ago when I arrived at the hospital in a', mode_of_transportation,'. The hospital is a/an',adjectives[0],' place, there are a lot of', adjectives[1], nouns[0],'here. \\n There are nurses here who have', colors[0], part_of_the_bodes[0],'. If someone wants to come into my room I told them that they have to', verbs[0], ' first.\\n I have decorated my room with', numbers[1], nouns[1],'. Today I talked to a doctor and they were wearing a',nouns[2],'. on their', part_of_the_bodes[1],'.\\n I heard that all doctors', verbs[1], nouns[3],' every day for breakfast. The most',adjectives[2],' thing about being in the hospital is the', silly_words[0], nouns[4],'!')\n",
        "elif templets==2:\n",
        "  adverb=input('Enter adverb (ending in ly): ')\n",
        "  adjectives_fill=input('Enter 2 adjectives(filling): ')\n",
        "  adjectives_fill=adjectives_fill.split()\n",
        "  adjective_fill=random.shuffle(adjectives_fill)\n",
        "  print()\n",
        "  print('This weekend I am going camping with', names, '. I packed my lantern, sleeping bag, and', nouns[0], '.\\nI am so', adjectives_fill[0],' to', verbs[0],' in a tent. I am ',adjectives_fill[1],'we might see a(n)', animals[0],'\\nI hear they are kind of dangerous. While we are camping, we are going to hike, fish, and', verbs[1], '.\\nI have heard that the', colors[0], ' lake is great for', verb_ing,'. Then we will',adverb,' hike through the forest for', numbers[0], measure_of_times[0], '.\\nIf I see a', colors[1], animals[1],' while hiking, I am going to bring it home as a pet!\\nAt night we will tell',numbers[1], silly_words[0], 'stories and roast', nouns[1],' around the campfire!!')\n",
        "else:\n",
        "  place=input('Enter a place: ')\n",
        "  magical_creaturs=input('Enter 2 Magical Creature (Plural):  ')\n",
        "  magical_creaturs=magical_creaturs.split()\n",
        "  magical_creatur=random.shuffle(magical_creaturs)\n",
        "  room=input('Enter room in house: ')\n",
        "  nouns_plu=input('Enter 2 nouns plural: ')\n",
        "  nouns_plu=nouns_plu.split()\n",
        "  noun_plu=random.shuffle(nouns_plu)\n",
        "  print()\n",
        "  print('Dear', names,', I am writing to you from a', adjectives[0], 'castle in an enchanted forest.\\nI found myself here one day after going for a ride on a', colors[0], animals[0],' in', place, '.\\nThere are', adjectives[1], magical_creaturs[0], 'and', adjectives[2], magical_creaturs[1],' here! In the', room,'there is a pool full of', nouns[0],'.\\nI fall asleep each night on a', nouns[1], ' of', nouns_plu[0],' and dream of', adjectives[3], nouns_plu[1], '. \\nIt feels as though I have lived here for', numbers[0], measure_of_times,'.\\nI hope one day you can visit, although the only way to get here now is', verb_ing,'on a', adjectives[4], nouns[4],'!!')\n",
        "\n",
        "\n"
      ],
      "metadata": {
        "id": "A7j61psu1djy"
      },
      "execution_count": null,
      "outputs": []
    }
  ]
}